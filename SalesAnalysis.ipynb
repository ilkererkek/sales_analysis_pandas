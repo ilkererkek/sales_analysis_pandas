{
 "cells": [
  {
   "cell_type": "markdown",
   "source": [
    "<h1>Sales Analysis<h1>"
   ],
   "metadata": {}
  },
  {
   "cell_type": "markdown",
   "source": [
    "<h2>Import Libraries<h2>"
   ],
   "metadata": {}
  },
  {
   "cell_type": "code",
   "execution_count": 1,
   "source": [
    "import numpy as np\r\n",
    "import pandas as pd \r\n",
    "import matplotlib.pyplot as plt\r\n",
    "import os\r\n",
    "import "
   ],
   "outputs": [],
   "metadata": {}
  },
  {
   "cell_type": "markdown",
   "source": [
    "<h2>Import and Merge Data<h2>"
   ],
   "metadata": {}
  },
  {
   "cell_type": "code",
   "execution_count": 2,
   "source": [
    "files = [file for file in os.listdir('./Data')]\r\n",
    "\r\n",
    "sales_data = pd.DataFrame()\r\n",
    "for file in files:\r\n",
    "    df = pd.read_csv('./Data/'+file)\r\n",
    "    sales_data = pd.concat([sales_data, df])"
   ],
   "outputs": [],
   "metadata": {}
  },
  {
   "cell_type": "markdown",
   "source": [
    "<h3>Delete NaN rows<h3>"
   ],
   "metadata": {}
  },
  {
   "cell_type": "code",
   "execution_count": 3,
   "source": [
    "sales_data.dropna( axis=0,how = 'all' , inplace = True)\r\n",
    "\r\n",
    "sales_data.to_csv('all_data.csv', index = False)\r\n",
    "sales_data.head(10)"
   ],
   "outputs": [
    {
     "output_type": "execute_result",
     "data": {
      "text/plain": [
       "   Order ID                     Product Quantity Ordered Price Each  \\\n",
       "0    176558        USB-C Charging Cable                2      11.95   \n",
       "2    176559  Bose SoundSport Headphones                1      99.99   \n",
       "3    176560                Google Phone                1        600   \n",
       "4    176560            Wired Headphones                1      11.99   \n",
       "5    176561            Wired Headphones                1      11.99   \n",
       "6    176562        USB-C Charging Cable                1      11.95   \n",
       "7    176563  Bose SoundSport Headphones                1      99.99   \n",
       "8    176564        USB-C Charging Cable                1      11.95   \n",
       "9    176565          Macbook Pro Laptop                1       1700   \n",
       "10   176566            Wired Headphones                1      11.99   \n",
       "\n",
       "        Order Date                        Purchase Address  \n",
       "0   04/19/19 08:46            917 1st St, Dallas, TX 75001  \n",
       "2   04/07/19 22:30       682 Chestnut St, Boston, MA 02215  \n",
       "3   04/12/19 14:38    669 Spruce St, Los Angeles, CA 90001  \n",
       "4   04/12/19 14:38    669 Spruce St, Los Angeles, CA 90001  \n",
       "5   04/30/19 09:27       333 8th St, Los Angeles, CA 90001  \n",
       "6   04/29/19 13:03  381 Wilson St, San Francisco, CA 94016  \n",
       "7   04/02/19 07:46        668 Center St, Seattle, WA 98101  \n",
       "8   04/12/19 10:58         790 Ridge St, Atlanta, GA 30301  \n",
       "9   04/24/19 10:38  915 Willow St, San Francisco, CA 94016  \n",
       "10  04/08/19 14:05             83 7th St, Boston, MA 02215  "
      ],
      "text/html": [
       "<div>\n",
       "<style scoped>\n",
       "    .dataframe tbody tr th:only-of-type {\n",
       "        vertical-align: middle;\n",
       "    }\n",
       "\n",
       "    .dataframe tbody tr th {\n",
       "        vertical-align: top;\n",
       "    }\n",
       "\n",
       "    .dataframe thead th {\n",
       "        text-align: right;\n",
       "    }\n",
       "</style>\n",
       "<table border=\"1\" class=\"dataframe\">\n",
       "  <thead>\n",
       "    <tr style=\"text-align: right;\">\n",
       "      <th></th>\n",
       "      <th>Order ID</th>\n",
       "      <th>Product</th>\n",
       "      <th>Quantity Ordered</th>\n",
       "      <th>Price Each</th>\n",
       "      <th>Order Date</th>\n",
       "      <th>Purchase Address</th>\n",
       "    </tr>\n",
       "  </thead>\n",
       "  <tbody>\n",
       "    <tr>\n",
       "      <th>0</th>\n",
       "      <td>176558</td>\n",
       "      <td>USB-C Charging Cable</td>\n",
       "      <td>2</td>\n",
       "      <td>11.95</td>\n",
       "      <td>04/19/19 08:46</td>\n",
       "      <td>917 1st St, Dallas, TX 75001</td>\n",
       "    </tr>\n",
       "    <tr>\n",
       "      <th>2</th>\n",
       "      <td>176559</td>\n",
       "      <td>Bose SoundSport Headphones</td>\n",
       "      <td>1</td>\n",
       "      <td>99.99</td>\n",
       "      <td>04/07/19 22:30</td>\n",
       "      <td>682 Chestnut St, Boston, MA 02215</td>\n",
       "    </tr>\n",
       "    <tr>\n",
       "      <th>3</th>\n",
       "      <td>176560</td>\n",
       "      <td>Google Phone</td>\n",
       "      <td>1</td>\n",
       "      <td>600</td>\n",
       "      <td>04/12/19 14:38</td>\n",
       "      <td>669 Spruce St, Los Angeles, CA 90001</td>\n",
       "    </tr>\n",
       "    <tr>\n",
       "      <th>4</th>\n",
       "      <td>176560</td>\n",
       "      <td>Wired Headphones</td>\n",
       "      <td>1</td>\n",
       "      <td>11.99</td>\n",
       "      <td>04/12/19 14:38</td>\n",
       "      <td>669 Spruce St, Los Angeles, CA 90001</td>\n",
       "    </tr>\n",
       "    <tr>\n",
       "      <th>5</th>\n",
       "      <td>176561</td>\n",
       "      <td>Wired Headphones</td>\n",
       "      <td>1</td>\n",
       "      <td>11.99</td>\n",
       "      <td>04/30/19 09:27</td>\n",
       "      <td>333 8th St, Los Angeles, CA 90001</td>\n",
       "    </tr>\n",
       "    <tr>\n",
       "      <th>6</th>\n",
       "      <td>176562</td>\n",
       "      <td>USB-C Charging Cable</td>\n",
       "      <td>1</td>\n",
       "      <td>11.95</td>\n",
       "      <td>04/29/19 13:03</td>\n",
       "      <td>381 Wilson St, San Francisco, CA 94016</td>\n",
       "    </tr>\n",
       "    <tr>\n",
       "      <th>7</th>\n",
       "      <td>176563</td>\n",
       "      <td>Bose SoundSport Headphones</td>\n",
       "      <td>1</td>\n",
       "      <td>99.99</td>\n",
       "      <td>04/02/19 07:46</td>\n",
       "      <td>668 Center St, Seattle, WA 98101</td>\n",
       "    </tr>\n",
       "    <tr>\n",
       "      <th>8</th>\n",
       "      <td>176564</td>\n",
       "      <td>USB-C Charging Cable</td>\n",
       "      <td>1</td>\n",
       "      <td>11.95</td>\n",
       "      <td>04/12/19 10:58</td>\n",
       "      <td>790 Ridge St, Atlanta, GA 30301</td>\n",
       "    </tr>\n",
       "    <tr>\n",
       "      <th>9</th>\n",
       "      <td>176565</td>\n",
       "      <td>Macbook Pro Laptop</td>\n",
       "      <td>1</td>\n",
       "      <td>1700</td>\n",
       "      <td>04/24/19 10:38</td>\n",
       "      <td>915 Willow St, San Francisco, CA 94016</td>\n",
       "    </tr>\n",
       "    <tr>\n",
       "      <th>10</th>\n",
       "      <td>176566</td>\n",
       "      <td>Wired Headphones</td>\n",
       "      <td>1</td>\n",
       "      <td>11.99</td>\n",
       "      <td>04/08/19 14:05</td>\n",
       "      <td>83 7th St, Boston, MA 02215</td>\n",
       "    </tr>\n",
       "  </tbody>\n",
       "</table>\n",
       "</div>"
      ]
     },
     "metadata": {},
     "execution_count": 3
    }
   ],
   "metadata": {}
  },
  {
   "cell_type": "markdown",
   "source": [
    "<h3>Convert Order Date to date<h3>"
   ],
   "metadata": {}
  },
  {
   "cell_type": "code",
   "execution_count": 4,
   "source": [
    "\r\n",
    "sales_data = sales_data.drop(sales_data[sales_data[\"Order Date\"] == \"Order Date\"].index).reset_index(drop= True)"
   ],
   "outputs": [],
   "metadata": {}
  },
  {
   "cell_type": "code",
   "execution_count": 5,
   "source": [
    "sales_data[\"Quantity Ordered\"] = sales_data[\"Quantity Ordered\"].astype(float)\r\n",
    "sales_data[\"Price Each\"] = sales_data[\"Price Each\"].astype(float)\r\n",
    "sales_data[\"Order ID\"] = sales_data[\"Order ID\"].astype(int)"
   ],
   "outputs": [],
   "metadata": {}
  },
  {
   "cell_type": "code",
   "execution_count": 6,
   "source": [
    "sales_data['Order Date'] = pd.to_datetime(sales_data['Order Date'], format=\"%m/%d/%y %H:%M\")\r\n",
    "sales_data.dtypes"
   ],
   "outputs": [
    {
     "output_type": "execute_result",
     "data": {
      "text/plain": [
       "Order ID                     int32\n",
       "Product                     object\n",
       "Quantity Ordered           float64\n",
       "Price Each                 float64\n",
       "Order Date          datetime64[ns]\n",
       "Purchase Address            object\n",
       "dtype: object"
      ]
     },
     "metadata": {},
     "execution_count": 6
    }
   ],
   "metadata": {}
  },
  {
   "cell_type": "markdown",
   "source": [
    "<h2>Add Sales Collum<h2>"
   ],
   "metadata": {}
  },
  {
   "cell_type": "code",
   "execution_count": 7,
   "source": [
    "sales_data['Sales'] = sales_data['Quantity Ordered'] * sales_data['Price Each']"
   ],
   "outputs": [],
   "metadata": {}
  },
  {
   "cell_type": "code",
   "execution_count": null,
   "source": [
    "<h3>Group by Month<h3>"
   ],
   "outputs": [],
   "metadata": {}
  },
  {
   "cell_type": "code",
   "execution_count": 8,
   "source": [
    "pd.options.display.float_format = '${:,.2f}'.format\r\n",
    "plt.title('Sales Per Month')\r\n",
    "plt.bar(range(1,13),sales_data.groupby(pd.DatetimeIndex(sales_data[\"Order Date\"]).month).sum()[\"Sales\"],label = 'Sale')\r\n",
    "plt.xticks(range(1,13))\r\n",
    "plt.ylabel('Sales($)')\r\n",
    "plt.xlabel('Month')\r\n",
    "plt.legend()\r\n",
    "plt.show()"
   ],
   "outputs": [
    {
     "output_type": "display_data",
     "data": {
      "text/plain": [
       "<Figure size 432x288 with 1 Axes>"
      ],
      "image/png": "[encoded data removed]"
     },
     "metadata": {
      "needs_background": "light"
     }
    }
   ],
   "metadata": {}
  },
  {
   "cell_type": "markdown",
   "source": [
    "<h1>Find the sales by city<h1>"
   ],
   "metadata": {}
  },
  {
   "cell_type": "code",
   "execution_count": 9,
   "source": [
    "sales_data['city'] = sales_data['Purchase Address'].str.split(',').str[1]\r\n",
    "sales_data"
   ],
   "outputs": [
    {
     "output_type": "execute_result",
     "data": {
      "text/plain": [
       "        Order ID                     Product  Quantity Ordered  Price Each  \\\n",
       "0         176558        USB-C Charging Cable             $2.00      $11.95   \n",
       "1         176559  Bose SoundSport Headphones             $1.00      $99.99   \n",
       "2         176560                Google Phone             $1.00     $600.00   \n",
       "3         176560            Wired Headphones             $1.00      $11.99   \n",
       "4         176561            Wired Headphones             $1.00      $11.99   \n",
       "...          ...                         ...               ...         ...   \n",
       "182730    259353      AAA Batteries (4-pack)             $3.00       $2.99   \n",
       "182731    259354                      iPhone             $1.00     $700.00   \n",
       "182732    259355                      iPhone             $1.00     $700.00   \n",
       "182733    259356      34in Ultrawide Monitor             $1.00     $379.99   \n",
       "182734    259357        USB-C Charging Cable             $1.00      $11.95   \n",
       "\n",
       "                Order Date                         Purchase Address   Sales  \\\n",
       "0      2019-04-19 08:46:00             917 1st St, Dallas, TX 75001  $23.90   \n",
       "1      2019-04-07 22:30:00        682 Chestnut St, Boston, MA 02215  $99.99   \n",
       "2      2019-04-12 14:38:00     669 Spruce St, Los Angeles, CA 90001 $600.00   \n",
       "3      2019-04-12 14:38:00     669 Spruce St, Los Angeles, CA 90001  $11.99   \n",
       "4      2019-04-30 09:27:00        333 8th St, Los Angeles, CA 90001  $11.99   \n",
       "...                    ...                                      ...     ...   \n",
       "182730 2019-09-17 20:56:00   840 Highland St, Los Angeles, CA 90001   $8.97   \n",
       "182731 2019-09-01 16:00:00  216 Dogwood St, San Francisco, CA 94016 $700.00   \n",
       "182732 2019-09-23 07:39:00     220 12th St, San Francisco, CA 94016 $700.00   \n",
       "182733 2019-09-19 17:30:00   511 Forest St, San Francisco, CA 94016 $379.99   \n",
       "182734 2019-09-30 00:18:00   250 Meadow St, San Francisco, CA 94016  $11.95   \n",
       "\n",
       "                  city  \n",
       "0               Dallas  \n",
       "1               Boston  \n",
       "2          Los Angeles  \n",
       "3          Los Angeles  \n",
       "4          Los Angeles  \n",
       "...                ...  \n",
       "182730     Los Angeles  \n",
       "182731   San Francisco  \n",
       "182732   San Francisco  \n",
       "182733   San Francisco  \n",
       "182734   San Francisco  \n",
       "\n",
       "[182735 rows x 8 columns]"
      ],
      "text/html": [
       "<div>\n",
       "<style scoped>\n",
       "    .dataframe tbody tr th:only-of-type {\n",
       "        vertical-align: middle;\n",
       "    }\n",
       "\n",
       "    .dataframe tbody tr th {\n",
       "        vertical-align: top;\n",
       "    }\n",
       "\n",
       "    .dataframe thead th {\n",
       "        text-align: right;\n",
       "    }\n",
       "</style>\n",
       "<table border=\"1\" class=\"dataframe\">\n",
       "  <thead>\n",
       "    <tr style=\"text-align: right;\">\n",
       "      <th></th>\n",
       "      <th>Order ID</th>\n",
       "      <th>Product</th>\n",
       "      <th>Quantity Ordered</th>\n",
       "      <th>Price Each</th>\n",
       "      <th>Order Date</th>\n",
       "      <th>Purchase Address</th>\n",
       "      <th>Sales</th>\n",
       "      <th>city</th>\n",
       "    </tr>\n",
       "  </thead>\n",
       "  <tbody>\n",
       "    <tr>\n",
       "      <th>0</th>\n",
       "      <td>176558</td>\n",
       "      <td>USB-C Charging Cable</td>\n",
       "      <td>$2.00</td>\n",
       "      <td>$11.95</td>\n",
       "      <td>2019-04-19 08:46:00</td>\n",
       "      <td>917 1st St, Dallas, TX 75001</td>\n",
       "      <td>$23.90</td>\n",
       "      <td>Dallas</td>\n",
       "    </tr>\n",
       "    <tr>\n",
       "      <th>1</th>\n",
       "      <td>176559</td>\n",
       "      <td>Bose SoundSport Headphones</td>\n",
       "      <td>$1.00</td>\n",
       "      <td>$99.99</td>\n",
       "      <td>2019-04-07 22:30:00</td>\n",
       "      <td>682 Chestnut St, Boston, MA 02215</td>\n",
       "      <td>$99.99</td>\n",
       "      <td>Boston</td>\n",
       "    </tr>\n",
       "    <tr>\n",
       "      <th>2</th>\n",
       "      <td>176560</td>\n",
       "      <td>Google Phone</td>\n",
       "      <td>$1.00</td>\n",
       "      <td>$600.00</td>\n",
       "      <td>2019-04-12 14:38:00</td>\n",
       "      <td>669 Spruce St, Los Angeles, CA 90001</td>\n",
       "      <td>$600.00</td>\n",
       "      <td>Los Angeles</td>\n",
       "    </tr>\n",
       "    <tr>\n",
       "      <th>3</th>\n",
       "      <td>176560</td>\n",
       "      <td>Wired Headphones</td>\n",
       "      <td>$1.00</td>\n",
       "      <td>$11.99</td>\n",
       "      <td>2019-04-12 14:38:00</td>\n",
       "      <td>669 Spruce St, Los Angeles, CA 90001</td>\n",
       "      <td>$11.99</td>\n",
       "      <td>Los Angeles</td>\n",
       "    </tr>\n",
       "    <tr>\n",
       "      <th>4</th>\n",
       "      <td>176561</td>\n",
       "      <td>Wired Headphones</td>\n",
       "      <td>$1.00</td>\n",
       "      <td>$11.99</td>\n",
       "      <td>2019-04-30 09:27:00</td>\n",
       "      <td>333 8th St, Los Angeles, CA 90001</td>\n",
       "      <td>$11.99</td>\n",
       "      <td>Los Angeles</td>\n",
       "    </tr>\n",
       "    <tr>\n",
       "      <th>...</th>\n",
       "      <td>...</td>\n",
       "      <td>...</td>\n",
       "      <td>...</td>\n",
       "      <td>...</td>\n",
       "      <td>...</td>\n",
       "      <td>...</td>\n",
       "      <td>...</td>\n",
       "      <td>...</td>\n",
       "    </tr>\n",
       "    <tr>\n",
       "      <th>182730</th>\n",
       "      <td>259353</td>\n",
       "      <td>AAA Batteries (4-pack)</td>\n",
       "      <td>$3.00</td>\n",
       "      <td>$2.99</td>\n",
       "      <td>2019-09-17 20:56:00</td>\n",
       "      <td>840 Highland St, Los Angeles, CA 90001</td>\n",
       "      <td>$8.97</td>\n",
       "      <td>Los Angeles</td>\n",
       "    </tr>\n",
       "    <tr>\n",
       "      <th>182731</th>\n",
       "      <td>259354</td>\n",
       "      <td>iPhone</td>\n",
       "      <td>$1.00</td>\n",
       "      <td>$700.00</td>\n",
       "      <td>2019-09-01 16:00:00</td>\n",
       "      <td>216 Dogwood St, San Francisco, CA 94016</td>\n",
       "      <td>$700.00</td>\n",
       "      <td>San Francisco</td>\n",
       "    </tr>\n",
       "    <tr>\n",
       "      <th>182732</th>\n",
       "      <td>259355</td>\n",
       "      <td>iPhone</td>\n",
       "      <td>$1.00</td>\n",
       "      <td>$700.00</td>\n",
       "      <td>2019-09-23 07:39:00</td>\n",
       "      <td>220 12th St, San Francisco, CA 94016</td>\n",
       "      <td>$700.00</td>\n",
       "      <td>San Francisco</td>\n",
       "    </tr>\n",
       "    <tr>\n",
       "      <th>182733</th>\n",
       "      <td>259356</td>\n",
       "      <td>34in Ultrawide Monitor</td>\n",
       "      <td>$1.00</td>\n",
       "      <td>$379.99</td>\n",
       "      <td>2019-09-19 17:30:00</td>\n",
       "      <td>511 Forest St, San Francisco, CA 94016</td>\n",
       "      <td>$379.99</td>\n",
       "      <td>San Francisco</td>\n",
       "    </tr>\n",
       "    <tr>\n",
       "      <th>182734</th>\n",
       "      <td>259357</td>\n",
       "      <td>USB-C Charging Cable</td>\n",
       "      <td>$1.00</td>\n",
       "      <td>$11.95</td>\n",
       "      <td>2019-09-30 00:18:00</td>\n",
       "      <td>250 Meadow St, San Francisco, CA 94016</td>\n",
       "      <td>$11.95</td>\n",
       "      <td>San Francisco</td>\n",
       "    </tr>\n",
       "  </tbody>\n",
       "</table>\n",
       "<p>182735 rows × 8 columns</p>\n",
       "</div>"
      ]
     },
     "metadata": {},
     "execution_count": 9
    }
   ],
   "metadata": {}
  },
  {
   "cell_type": "code",
   "execution_count": 12,
   "source": [
    "pd.options.display.float_format = '${:,.2f}'.format\r\n",
    "\r\n",
    "#to get same cities for labels\r\n",
    "cities = [city for city, df in sales_data.groupby('city')]\r\n",
    "\r\n",
    "\r\n",
    "plt.title('Sales Per City')\r\n",
    "plt.bar(cities,sales_data.groupby(\"city\").sum()[\"Sales\"],label = 'Sale')\r\n",
    "plt.xticks(cities, rotation = 'vertical')\r\n",
    "plt.ylabel('Sales($)')\r\n",
    "plt.xlabel('City')\r\n",
    "plt.legend()\r\n",
    "plt.show()"
   ],
   "outputs": [
    {
     "output_type": "display_data",
     "data": {
      "text/plain": [
       "<Figure size 432x288 with 1 Axes>"
      ],
      "image/png": "[encoded data removed]"
     },
     "metadata": {
      "needs_background": "light"
     }
    }
   ],
   "metadata": {}
  },
  {
   "cell_type": "code",
   "execution_count": 33,
   "source": [
    "sales_by_date = sales_data.groupby(\"Order Date\").sum()[\"Sales\"]\r\n",
    "\r\n",
    "plt.title('Sales Per Date')\r\n",
    "plt.plot(sales_data.groupby(sales_data[\"Order Date\"].dt.hour).count()[\"Sales\"],label = 'Sale')\r\n",
    "plt.xticks(range(0,24))\r\n",
    "plt.ylabel('Sales($)')\r\n",
    "plt.xlabel('Hour')\r\n",
    "plt.legend()\r\n",
    "plt.grid()\r\n",
    "plt.show()"
   ],
   "outputs": [
    {
     "output_type": "display_data",
     "data": {
      "text/plain": [
       "<Figure size 432x288 with 1 Axes>"
      ],
      "image/png": "[encoded data removed]"
     },
     "metadata": {
      "needs_background": "light"
     }
    }
   ],
   "metadata": {}
  }
 ],
 "metadata": {
  "orig_nbformat": 4,
  "language_info": {
   "name": "python"
  }
 },
 "nbformat": 4,
 "nbformat_minor": 2
}